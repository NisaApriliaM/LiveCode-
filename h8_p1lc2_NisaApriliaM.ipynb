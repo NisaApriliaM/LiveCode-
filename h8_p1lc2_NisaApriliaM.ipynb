{
 "cells": [
  {
   "cell_type": "markdown",
   "id": "5bbbb175",
   "metadata": {},
   "source": [
    "# INTRODUCTION "
   ]
  },
  {
   "cell_type": "markdown",
   "id": "1f7c3490",
   "metadata": {},
   "source": [
    "**Nisa Aprilia M.**\n",
    "\n",
    "**FTDS #004**"
   ]
  },
  {
   "cell_type": "markdown",
   "id": "97a2c85e",
   "metadata": {},
   "source": [
    "# IMPORT LIBRARIES "
   ]
  },
  {
   "cell_type": "code",
   "execution_count": 226,
   "id": "bf58a091",
   "metadata": {},
   "outputs": [],
   "source": [
    "import numpy as np\n",
    "import pandas as pd \n",
    "import seaborn as sns\n",
    "import matplotlib.pyplot as plt\n",
    "from sklearn.model_selection import train_test_split \n",
    "from matplotlib import pyplot as plt\n",
    "from sklearn.preprocessing import StandardScaler, LabelEncoder\n",
    "from sklearn.preprocessing import MinMaxScaler\n",
    "from sklearn.tree import DecisionTreeClassifier\n",
    "from sklearn.ensemble import RandomForestClassifier\n",
    "from sklearn.metrics import accuracy_score\n",
    "from sklearn import metrics\n",
    "from sklearn.model_selection import GridSearchCV"
   ]
  },
  {
   "cell_type": "markdown",
   "id": "62e7f5c5",
   "metadata": {},
   "source": [
    "# IMPORT DATA "
   ]
  },
  {
   "cell_type": "code",
   "execution_count": 227,
   "id": "b5cd79b6",
   "metadata": {},
   "outputs": [
    {
     "data": {
      "text/html": [
       "<div>\n",
       "<style scoped>\n",
       "    .dataframe tbody tr th:only-of-type {\n",
       "        vertical-align: middle;\n",
       "    }\n",
       "\n",
       "    .dataframe tbody tr th {\n",
       "        vertical-align: top;\n",
       "    }\n",
       "\n",
       "    .dataframe thead th {\n",
       "        text-align: right;\n",
       "    }\n",
       "</style>\n",
       "<table border=\"1\" class=\"dataframe\">\n",
       "  <thead>\n",
       "    <tr style=\"text-align: right;\">\n",
       "      <th></th>\n",
       "      <th>Age</th>\n",
       "      <th>Attrition</th>\n",
       "      <th>BusinessTravel</th>\n",
       "      <th>DailyRate</th>\n",
       "      <th>Department</th>\n",
       "      <th>DistanceFromHome</th>\n",
       "      <th>Education</th>\n",
       "      <th>EducationField</th>\n",
       "      <th>EmployeeCount</th>\n",
       "      <th>EmployeeNumber</th>\n",
       "      <th>...</th>\n",
       "      <th>RelationshipSatisfaction</th>\n",
       "      <th>StandardHours</th>\n",
       "      <th>StockOptionLevel</th>\n",
       "      <th>TotalWorkingYears</th>\n",
       "      <th>TrainingTimesLastYear</th>\n",
       "      <th>WorkLifeBalance</th>\n",
       "      <th>YearsAtCompany</th>\n",
       "      <th>YearsInCurrentRole</th>\n",
       "      <th>YearsSinceLastPromotion</th>\n",
       "      <th>YearsWithCurrManager</th>\n",
       "    </tr>\n",
       "  </thead>\n",
       "  <tbody>\n",
       "    <tr>\n",
       "      <th>0</th>\n",
       "      <td>41</td>\n",
       "      <td>Yes</td>\n",
       "      <td>Travel_Rarely</td>\n",
       "      <td>1102</td>\n",
       "      <td>Sales</td>\n",
       "      <td>1</td>\n",
       "      <td>2</td>\n",
       "      <td>Life Sciences</td>\n",
       "      <td>1</td>\n",
       "      <td>1</td>\n",
       "      <td>...</td>\n",
       "      <td>1</td>\n",
       "      <td>80</td>\n",
       "      <td>0</td>\n",
       "      <td>8</td>\n",
       "      <td>0</td>\n",
       "      <td>1</td>\n",
       "      <td>6</td>\n",
       "      <td>4</td>\n",
       "      <td>0</td>\n",
       "      <td>5</td>\n",
       "    </tr>\n",
       "    <tr>\n",
       "      <th>1</th>\n",
       "      <td>49</td>\n",
       "      <td>No</td>\n",
       "      <td>Travel_Frequently</td>\n",
       "      <td>279</td>\n",
       "      <td>Research &amp; Development</td>\n",
       "      <td>8</td>\n",
       "      <td>1</td>\n",
       "      <td>Life Sciences</td>\n",
       "      <td>1</td>\n",
       "      <td>2</td>\n",
       "      <td>...</td>\n",
       "      <td>4</td>\n",
       "      <td>80</td>\n",
       "      <td>1</td>\n",
       "      <td>10</td>\n",
       "      <td>3</td>\n",
       "      <td>3</td>\n",
       "      <td>10</td>\n",
       "      <td>7</td>\n",
       "      <td>1</td>\n",
       "      <td>7</td>\n",
       "    </tr>\n",
       "    <tr>\n",
       "      <th>2</th>\n",
       "      <td>37</td>\n",
       "      <td>Yes</td>\n",
       "      <td>Travel_Rarely</td>\n",
       "      <td>1373</td>\n",
       "      <td>Research &amp; Development</td>\n",
       "      <td>2</td>\n",
       "      <td>2</td>\n",
       "      <td>Other</td>\n",
       "      <td>1</td>\n",
       "      <td>4</td>\n",
       "      <td>...</td>\n",
       "      <td>2</td>\n",
       "      <td>80</td>\n",
       "      <td>0</td>\n",
       "      <td>7</td>\n",
       "      <td>3</td>\n",
       "      <td>3</td>\n",
       "      <td>0</td>\n",
       "      <td>0</td>\n",
       "      <td>0</td>\n",
       "      <td>0</td>\n",
       "    </tr>\n",
       "    <tr>\n",
       "      <th>3</th>\n",
       "      <td>33</td>\n",
       "      <td>No</td>\n",
       "      <td>Travel_Frequently</td>\n",
       "      <td>1392</td>\n",
       "      <td>Research &amp; Development</td>\n",
       "      <td>3</td>\n",
       "      <td>4</td>\n",
       "      <td>Life Sciences</td>\n",
       "      <td>1</td>\n",
       "      <td>5</td>\n",
       "      <td>...</td>\n",
       "      <td>3</td>\n",
       "      <td>80</td>\n",
       "      <td>0</td>\n",
       "      <td>8</td>\n",
       "      <td>3</td>\n",
       "      <td>3</td>\n",
       "      <td>8</td>\n",
       "      <td>7</td>\n",
       "      <td>3</td>\n",
       "      <td>0</td>\n",
       "    </tr>\n",
       "    <tr>\n",
       "      <th>4</th>\n",
       "      <td>27</td>\n",
       "      <td>No</td>\n",
       "      <td>Travel_Rarely</td>\n",
       "      <td>591</td>\n",
       "      <td>Research &amp; Development</td>\n",
       "      <td>2</td>\n",
       "      <td>1</td>\n",
       "      <td>Medical</td>\n",
       "      <td>1</td>\n",
       "      <td>7</td>\n",
       "      <td>...</td>\n",
       "      <td>4</td>\n",
       "      <td>80</td>\n",
       "      <td>1</td>\n",
       "      <td>6</td>\n",
       "      <td>3</td>\n",
       "      <td>3</td>\n",
       "      <td>2</td>\n",
       "      <td>2</td>\n",
       "      <td>2</td>\n",
       "      <td>2</td>\n",
       "    </tr>\n",
       "  </tbody>\n",
       "</table>\n",
       "<p>5 rows × 35 columns</p>\n",
       "</div>"
      ],
      "text/plain": [
       "   Age Attrition     BusinessTravel  DailyRate              Department  \\\n",
       "0   41       Yes      Travel_Rarely       1102                   Sales   \n",
       "1   49        No  Travel_Frequently        279  Research & Development   \n",
       "2   37       Yes      Travel_Rarely       1373  Research & Development   \n",
       "3   33        No  Travel_Frequently       1392  Research & Development   \n",
       "4   27        No      Travel_Rarely        591  Research & Development   \n",
       "\n",
       "   DistanceFromHome  Education EducationField  EmployeeCount  EmployeeNumber  \\\n",
       "0                 1          2  Life Sciences              1               1   \n",
       "1                 8          1  Life Sciences              1               2   \n",
       "2                 2          2          Other              1               4   \n",
       "3                 3          4  Life Sciences              1               5   \n",
       "4                 2          1        Medical              1               7   \n",
       "\n",
       "   ...  RelationshipSatisfaction StandardHours  StockOptionLevel  \\\n",
       "0  ...                         1            80                 0   \n",
       "1  ...                         4            80                 1   \n",
       "2  ...                         2            80                 0   \n",
       "3  ...                         3            80                 0   \n",
       "4  ...                         4            80                 1   \n",
       "\n",
       "   TotalWorkingYears  TrainingTimesLastYear WorkLifeBalance  YearsAtCompany  \\\n",
       "0                  8                      0               1               6   \n",
       "1                 10                      3               3              10   \n",
       "2                  7                      3               3               0   \n",
       "3                  8                      3               3               8   \n",
       "4                  6                      3               3               2   \n",
       "\n",
       "  YearsInCurrentRole  YearsSinceLastPromotion  YearsWithCurrManager  \n",
       "0                  4                        0                     5  \n",
       "1                  7                        1                     7  \n",
       "2                  0                        0                     0  \n",
       "3                  7                        3                     0  \n",
       "4                  2                        2                     2  \n",
       "\n",
       "[5 rows x 35 columns]"
      ]
     },
     "execution_count": 227,
     "metadata": {},
     "output_type": "execute_result"
    }
   ],
   "source": [
    "# import dataset from csv file \n",
    "df = pd.read_csv(r\"C:\\Users\\nisam\\Downloads\\data.csv\")\n",
    "df.head()"
   ]
  },
  {
   "cell_type": "markdown",
   "id": "c435054b",
   "metadata": {},
   "source": [
    "**Quick Exploration:**"
   ]
  },
  {
   "cell_type": "code",
   "execution_count": 228,
   "id": "531d09cc",
   "metadata": {},
   "outputs": [
    {
     "data": {
      "text/plain": [
       "(1470, 35)"
      ]
     },
     "execution_count": 228,
     "metadata": {},
     "output_type": "execute_result"
    }
   ],
   "source": [
    "# check total rows & colums of the dataset \n",
    "df.shape"
   ]
  },
  {
   "cell_type": "code",
   "execution_count": 229,
   "id": "a58d3a59",
   "metadata": {},
   "outputs": [
    {
     "name": "stdout",
     "output_type": "stream",
     "text": [
      "<class 'pandas.core.frame.DataFrame'>\n",
      "RangeIndex: 1470 entries, 0 to 1469\n",
      "Data columns (total 35 columns):\n",
      " #   Column                    Non-Null Count  Dtype \n",
      "---  ------                    --------------  ----- \n",
      " 0   Age                       1470 non-null   int64 \n",
      " 1   Attrition                 1470 non-null   object\n",
      " 2   BusinessTravel            1470 non-null   object\n",
      " 3   DailyRate                 1470 non-null   int64 \n",
      " 4   Department                1470 non-null   object\n",
      " 5   DistanceFromHome          1470 non-null   int64 \n",
      " 6   Education                 1470 non-null   int64 \n",
      " 7   EducationField            1470 non-null   object\n",
      " 8   EmployeeCount             1470 non-null   int64 \n",
      " 9   EmployeeNumber            1470 non-null   int64 \n",
      " 10  EnvironmentSatisfaction   1470 non-null   int64 \n",
      " 11  Gender                    1470 non-null   object\n",
      " 12  HourlyRate                1470 non-null   int64 \n",
      " 13  JobInvolvement            1470 non-null   int64 \n",
      " 14  JobLevel                  1470 non-null   int64 \n",
      " 15  JobRole                   1470 non-null   object\n",
      " 16  JobSatisfaction           1470 non-null   int64 \n",
      " 17  MaritalStatus             1470 non-null   object\n",
      " 18  MonthlyIncome             1470 non-null   int64 \n",
      " 19  MonthlyRate               1470 non-null   int64 \n",
      " 20  NumCompaniesWorked        1470 non-null   int64 \n",
      " 21  Over18                    1470 non-null   object\n",
      " 22  OverTime                  1470 non-null   object\n",
      " 23  PercentSalaryHike         1470 non-null   int64 \n",
      " 24  PerformanceRating         1470 non-null   int64 \n",
      " 25  RelationshipSatisfaction  1470 non-null   int64 \n",
      " 26  StandardHours             1470 non-null   int64 \n",
      " 27  StockOptionLevel          1470 non-null   int64 \n",
      " 28  TotalWorkingYears         1470 non-null   int64 \n",
      " 29  TrainingTimesLastYear     1470 non-null   int64 \n",
      " 30  WorkLifeBalance           1470 non-null   int64 \n",
      " 31  YearsAtCompany            1470 non-null   int64 \n",
      " 32  YearsInCurrentRole        1470 non-null   int64 \n",
      " 33  YearsSinceLastPromotion   1470 non-null   int64 \n",
      " 34  YearsWithCurrManager      1470 non-null   int64 \n",
      "dtypes: int64(26), object(9)\n",
      "memory usage: 402.1+ KB\n"
     ]
    }
   ],
   "source": [
    "# check concise summary of a the dataset\n",
    "df.info()"
   ]
  },
  {
   "cell_type": "code",
   "execution_count": 230,
   "id": "f7bc1b91",
   "metadata": {},
   "outputs": [
    {
     "data": {
      "text/plain": [
       "array(['Yes', 'No'], dtype=object)"
      ]
     },
     "execution_count": 230,
     "metadata": {},
     "output_type": "execute_result"
    }
   ],
   "source": [
    "# check unique values of our target \n",
    "df.Attrition.unique()"
   ]
  },
  {
   "cell_type": "markdown",
   "id": "56a573e0",
   "metadata": {},
   "source": [
    "**LABEL ENCODING UNTUK TARGET**"
   ]
  },
  {
   "cell_type": "code",
   "execution_count": 231,
   "id": "0cd5fd0d",
   "metadata": {},
   "outputs": [
    {
     "data": {
      "text/plain": [
       "array([1, 0])"
      ]
     },
     "execution_count": 231,
     "metadata": {},
     "output_type": "execute_result"
    }
   ],
   "source": [
    "# change our target data to interger using LabelEncoder\n",
    "le = LabelEncoder()\n",
    "df['Attrition'] = le.fit_transform(df.Attrition.values)\n",
    "df.Attrition.unique()"
   ]
  },
  {
   "cell_type": "code",
   "execution_count": 232,
   "id": "04298086",
   "metadata": {},
   "outputs": [
    {
     "data": {
      "text/html": [
       "<div>\n",
       "<style scoped>\n",
       "    .dataframe tbody tr th:only-of-type {\n",
       "        vertical-align: middle;\n",
       "    }\n",
       "\n",
       "    .dataframe tbody tr th {\n",
       "        vertical-align: top;\n",
       "    }\n",
       "\n",
       "    .dataframe thead th {\n",
       "        text-align: right;\n",
       "    }\n",
       "</style>\n",
       "<table border=\"1\" class=\"dataframe\">\n",
       "  <thead>\n",
       "    <tr style=\"text-align: right;\">\n",
       "      <th></th>\n",
       "      <th>Age</th>\n",
       "      <th>Attrition</th>\n",
       "      <th>BusinessTravel</th>\n",
       "      <th>DailyRate</th>\n",
       "      <th>Department</th>\n",
       "      <th>DistanceFromHome</th>\n",
       "      <th>Education</th>\n",
       "      <th>EducationField</th>\n",
       "      <th>EmployeeCount</th>\n",
       "      <th>EmployeeNumber</th>\n",
       "      <th>...</th>\n",
       "      <th>RelationshipSatisfaction</th>\n",
       "      <th>StandardHours</th>\n",
       "      <th>StockOptionLevel</th>\n",
       "      <th>TotalWorkingYears</th>\n",
       "      <th>TrainingTimesLastYear</th>\n",
       "      <th>WorkLifeBalance</th>\n",
       "      <th>YearsAtCompany</th>\n",
       "      <th>YearsInCurrentRole</th>\n",
       "      <th>YearsSinceLastPromotion</th>\n",
       "      <th>YearsWithCurrManager</th>\n",
       "    </tr>\n",
       "  </thead>\n",
       "  <tbody>\n",
       "    <tr>\n",
       "      <th>0</th>\n",
       "      <td>41</td>\n",
       "      <td>1</td>\n",
       "      <td>Travel_Rarely</td>\n",
       "      <td>1102</td>\n",
       "      <td>Sales</td>\n",
       "      <td>1</td>\n",
       "      <td>2</td>\n",
       "      <td>Life Sciences</td>\n",
       "      <td>1</td>\n",
       "      <td>1</td>\n",
       "      <td>...</td>\n",
       "      <td>1</td>\n",
       "      <td>80</td>\n",
       "      <td>0</td>\n",
       "      <td>8</td>\n",
       "      <td>0</td>\n",
       "      <td>1</td>\n",
       "      <td>6</td>\n",
       "      <td>4</td>\n",
       "      <td>0</td>\n",
       "      <td>5</td>\n",
       "    </tr>\n",
       "    <tr>\n",
       "      <th>1</th>\n",
       "      <td>49</td>\n",
       "      <td>0</td>\n",
       "      <td>Travel_Frequently</td>\n",
       "      <td>279</td>\n",
       "      <td>Research &amp; Development</td>\n",
       "      <td>8</td>\n",
       "      <td>1</td>\n",
       "      <td>Life Sciences</td>\n",
       "      <td>1</td>\n",
       "      <td>2</td>\n",
       "      <td>...</td>\n",
       "      <td>4</td>\n",
       "      <td>80</td>\n",
       "      <td>1</td>\n",
       "      <td>10</td>\n",
       "      <td>3</td>\n",
       "      <td>3</td>\n",
       "      <td>10</td>\n",
       "      <td>7</td>\n",
       "      <td>1</td>\n",
       "      <td>7</td>\n",
       "    </tr>\n",
       "    <tr>\n",
       "      <th>2</th>\n",
       "      <td>37</td>\n",
       "      <td>1</td>\n",
       "      <td>Travel_Rarely</td>\n",
       "      <td>1373</td>\n",
       "      <td>Research &amp; Development</td>\n",
       "      <td>2</td>\n",
       "      <td>2</td>\n",
       "      <td>Other</td>\n",
       "      <td>1</td>\n",
       "      <td>4</td>\n",
       "      <td>...</td>\n",
       "      <td>2</td>\n",
       "      <td>80</td>\n",
       "      <td>0</td>\n",
       "      <td>7</td>\n",
       "      <td>3</td>\n",
       "      <td>3</td>\n",
       "      <td>0</td>\n",
       "      <td>0</td>\n",
       "      <td>0</td>\n",
       "      <td>0</td>\n",
       "    </tr>\n",
       "    <tr>\n",
       "      <th>3</th>\n",
       "      <td>33</td>\n",
       "      <td>0</td>\n",
       "      <td>Travel_Frequently</td>\n",
       "      <td>1392</td>\n",
       "      <td>Research &amp; Development</td>\n",
       "      <td>3</td>\n",
       "      <td>4</td>\n",
       "      <td>Life Sciences</td>\n",
       "      <td>1</td>\n",
       "      <td>5</td>\n",
       "      <td>...</td>\n",
       "      <td>3</td>\n",
       "      <td>80</td>\n",
       "      <td>0</td>\n",
       "      <td>8</td>\n",
       "      <td>3</td>\n",
       "      <td>3</td>\n",
       "      <td>8</td>\n",
       "      <td>7</td>\n",
       "      <td>3</td>\n",
       "      <td>0</td>\n",
       "    </tr>\n",
       "    <tr>\n",
       "      <th>4</th>\n",
       "      <td>27</td>\n",
       "      <td>0</td>\n",
       "      <td>Travel_Rarely</td>\n",
       "      <td>591</td>\n",
       "      <td>Research &amp; Development</td>\n",
       "      <td>2</td>\n",
       "      <td>1</td>\n",
       "      <td>Medical</td>\n",
       "      <td>1</td>\n",
       "      <td>7</td>\n",
       "      <td>...</td>\n",
       "      <td>4</td>\n",
       "      <td>80</td>\n",
       "      <td>1</td>\n",
       "      <td>6</td>\n",
       "      <td>3</td>\n",
       "      <td>3</td>\n",
       "      <td>2</td>\n",
       "      <td>2</td>\n",
       "      <td>2</td>\n",
       "      <td>2</td>\n",
       "    </tr>\n",
       "  </tbody>\n",
       "</table>\n",
       "<p>5 rows × 35 columns</p>\n",
       "</div>"
      ],
      "text/plain": [
       "   Age  Attrition     BusinessTravel  DailyRate              Department  \\\n",
       "0   41          1      Travel_Rarely       1102                   Sales   \n",
       "1   49          0  Travel_Frequently        279  Research & Development   \n",
       "2   37          1      Travel_Rarely       1373  Research & Development   \n",
       "3   33          0  Travel_Frequently       1392  Research & Development   \n",
       "4   27          0      Travel_Rarely        591  Research & Development   \n",
       "\n",
       "   DistanceFromHome  Education EducationField  EmployeeCount  EmployeeNumber  \\\n",
       "0                 1          2  Life Sciences              1               1   \n",
       "1                 8          1  Life Sciences              1               2   \n",
       "2                 2          2          Other              1               4   \n",
       "3                 3          4  Life Sciences              1               5   \n",
       "4                 2          1        Medical              1               7   \n",
       "\n",
       "   ...  RelationshipSatisfaction StandardHours  StockOptionLevel  \\\n",
       "0  ...                         1            80                 0   \n",
       "1  ...                         4            80                 1   \n",
       "2  ...                         2            80                 0   \n",
       "3  ...                         3            80                 0   \n",
       "4  ...                         4            80                 1   \n",
       "\n",
       "   TotalWorkingYears  TrainingTimesLastYear WorkLifeBalance  YearsAtCompany  \\\n",
       "0                  8                      0               1               6   \n",
       "1                 10                      3               3              10   \n",
       "2                  7                      3               3               0   \n",
       "3                  8                      3               3               8   \n",
       "4                  6                      3               3               2   \n",
       "\n",
       "  YearsInCurrentRole  YearsSinceLastPromotion  YearsWithCurrManager  \n",
       "0                  4                        0                     5  \n",
       "1                  7                        1                     7  \n",
       "2                  0                        0                     0  \n",
       "3                  7                        3                     0  \n",
       "4                  2                        2                     2  \n",
       "\n",
       "[5 rows x 35 columns]"
      ]
     },
     "execution_count": 232,
     "metadata": {},
     "output_type": "execute_result"
    }
   ],
   "source": [
    "df.head()"
   ]
  },
  {
   "cell_type": "markdown",
   "id": "4d6f6b38",
   "metadata": {},
   "source": [
    "# EXPLORATORY DATA ANALYSIS "
   ]
  },
  {
   "cell_type": "code",
   "execution_count": 233,
   "id": "72b711ee",
   "metadata": {},
   "outputs": [
    {
     "data": {
      "image/png": "[encoded data removed]",
      "text/plain": [
       "<Figure size 432x432 with 1 Axes>"
      ]
     },
     "metadata": {},
     "output_type": "display_data"
    }
   ],
   "source": [
    "f, ax = plt.subplots(figsize=(6, 6))\n",
    "ax = sns.countplot(x=\"Attrition\", data=df, palette=\"Set1\")\n",
    "plt.show()"
   ]
  },
  {
   "cell_type": "markdown",
   "id": "965cf9e3",
   "metadata": {},
   "source": [
    "***Kesimpulan: Nilai target yang dimiliki oleh dataset adalah imbalance.***"
   ]
  },
  {
   "cell_type": "markdown",
   "id": "5c23828f",
   "metadata": {},
   "source": [
    "**Menjawab soal: 2) Berapa % Attrition pada dataset tersebut?**"
   ]
  },
  {
   "cell_type": "code",
   "execution_count": 234,
   "id": "d17ba613",
   "metadata": {},
   "outputs": [
    {
     "data": {
      "text/plain": [
       "0    1233\n",
       "1     237\n",
       "Name: Attrition, dtype: int64"
      ]
     },
     "execution_count": 234,
     "metadata": {},
     "output_type": "execute_result"
    }
   ],
   "source": [
    "# cek value counts \n",
    "att = df.Attrition.value_counts()\n",
    "att"
   ]
  },
  {
   "cell_type": "code",
   "execution_count": 235,
   "id": "234854bd",
   "metadata": {},
   "outputs": [
    {
     "data": {
      "image/png": "[encoded data removed]",
      "text/plain": [
       "<Figure size 720x360 with 1 Axes>"
      ]
     },
     "metadata": {},
     "output_type": "display_data"
    }
   ],
   "source": [
    "# visualisasi dengan pie chart \n",
    "att.plot(kind='pie', figsize=(10, 5), autopct='%1.1f%%', startangle=180, shadow=True, y=1)\n",
    "plt.axis('equal') \n",
    "plt.title('% attrition pada Dataset') \n",
    "plt.show()"
   ]
  },
  {
   "cell_type": "markdown",
   "id": "baf994fd",
   "metadata": {},
   "source": [
    "***Jawaban: 84% karyawan tidak mengalami Attrition, dan 16% karyawan mengalami Attrition.***"
   ]
  },
  {
   "cell_type": "markdown",
   "id": "191d2e08",
   "metadata": {},
   "source": [
    "**Menjawab soal: 3) Umur berapa yang memiliki attration tertinggi?**"
   ]
  },
  {
   "cell_type": "code",
   "execution_count": 236,
   "id": "0513a6bb",
   "metadata": {},
   "outputs": [
    {
     "data": {
      "image/png": "[encoded data removed]",
      "text/plain": [
       "<Figure size 432x288 with 1 Axes>"
      ]
     },
     "metadata": {},
     "output_type": "display_data"
    }
   ],
   "source": [
    "age=df.groupby(df['Age']).sum()\n",
    "age=age.reset_index()\n",
    "age=plt.bar(age['Age'],age['Attrition'])\n",
    "plt.title('Distribusi data umur atas Attrition')\n",
    "plt.show()"
   ]
  },
  {
   "cell_type": "markdown",
   "id": "b7ff0e89",
   "metadata": {},
   "source": [
    "***Jawaban: Attrition tertinggi adalah pada karyawan berumur 29 dan 31 tahun.***"
   ]
  },
  {
   "cell_type": "markdown",
   "id": "db5d0aab",
   "metadata": {},
   "source": [
    "**Menjawab soal: 4) Apakah performance dan job satisfaction mempengaruhi attrition?**"
   ]
  },
  {
   "cell_type": "code",
   "execution_count": 237,
   "id": "ed82b1ee",
   "metadata": {},
   "outputs": [
    {
     "name": "stdout",
     "output_type": "stream",
     "text": [
      "Employee Performance Rating Summary \n",
      "Attrition             0    1\n",
      "PerformanceRating           \n",
      "3                  1044  200\n",
      "4                   189   37\n"
     ]
    },
    {
     "data": {
      "image/png": "[encoded data removed]",
      "text/plain": [
       "<Figure size 432x288 with 1 Axes>"
      ]
     },
     "metadata": {},
     "output_type": "display_data"
    }
   ],
   "source": [
    "# Employee Performance Rating Summary \n",
    "print('Employee Performance Rating Summary ')\n",
    "\n",
    "#print('\\n')\n",
    "print(df.groupby(['PerformanceRating','Attrition']).PerformanceRating.count().unstack())\n",
    "\n",
    "# Passenger class visualization\n",
    "pr = df.groupby(['PerformanceRating','Attrition']).PerformanceRating.count().unstack()\n",
    "p1 = pr.plot(kind = 'bar', stacked = True, \n",
    "                   title = 'Employee by Performance Rating: Attrition (Yes) or No Attrition (No)', \n",
    "                   color = ['grey','lightgreen'], alpha = .70)\n",
    "p1.set_xlabel('Performance Rating')\n",
    "p1.set_ylabel('# Employee')\n",
    "p1.legend(['No','Yes'])\n",
    "plt.show()"
   ]
  },
  {
   "cell_type": "markdown",
   "id": "1816d37b",
   "metadata": {},
   "source": [
    "***Jawaban: dapat dikatakan bahwa performance rating mempengaruhi attrition, karena bisa dilihat pada employee yang mendapatkan performance rating 3, lebih banyak menerima/melakukan attrition/pemberhentian kerja.***"
   ]
  },
  {
   "cell_type": "code",
   "execution_count": 238,
   "id": "6b0253c5",
   "metadata": {},
   "outputs": [
    {
     "name": "stdout",
     "output_type": "stream",
     "text": [
      "Employee Job Satisfaction Summary \n",
      "Attrition          0   1\n",
      "JobSatisfaction         \n",
      "1                223  66\n",
      "2                234  46\n",
      "3                369  73\n",
      "4                407  52\n"
     ]
    },
    {
     "data": {
      "image/png": "[encoded data removed]",
      "text/plain": [
       "<Figure size 432x288 with 1 Axes>"
      ]
     },
     "metadata": {},
     "output_type": "display_data"
    }
   ],
   "source": [
    "# Employee Job Satisfaction Summary \n",
    "print('Employee Job Satisfaction Summary ')\n",
    "\n",
    "#print('\\n')\n",
    "print(df.groupby(['JobSatisfaction','Attrition']).PerformanceRating.count().unstack())\n",
    "\n",
    "# Passenger class visualization\n",
    "pr = df.groupby(['JobSatisfaction','Attrition']).PerformanceRating.count().unstack()\n",
    "p1 = pr.plot(kind = 'bar', stacked = True, \n",
    "                   title = 'Employee by Job Satisfaction: Attrition (Yes) or No Attrition (No)', \n",
    "                   color = ['grey','lightgreen'], alpha = .70)\n",
    "p1.set_xlabel('Job Satisfaction')\n",
    "p1.set_ylabel('# Employee')\n",
    "p1.legend(['No','Yes'])\n",
    "plt.show()"
   ]
  },
  {
   "cell_type": "markdown",
   "id": "e559dfad",
   "metadata": {},
   "source": [
    "***Jawaban: dapat dikatakan bahwa Job Satisfaction tidak terlalu mempengaruhi attrition, karena bisa dilihat pada employee dengan rating 3, lebih banyak menerima/melakukan attrition/pemberhentian kerja daripada employee dengan rating 2. Begitu juga dengan employee dengan rating 4, perbandingan antara yes/no nya tidak se-signifikan employee dengan rating 3.***"
   ]
  },
  {
   "cell_type": "markdown",
   "id": "65e5ce44",
   "metadata": {},
   "source": [
    "**Menjawab soal: 5) Apakah yang memiliki income yang rendah, lebih cenderung Attrition?**"
   ]
  },
  {
   "cell_type": "code",
   "execution_count": 239,
   "id": "f587524c",
   "metadata": {},
   "outputs": [
    {
     "data": {
      "text/plain": [
       "array([5993, 5130, 2090, ..., 9991, 5390, 4404], dtype=int64)"
      ]
     },
     "execution_count": 239,
     "metadata": {},
     "output_type": "execute_result"
    }
   ],
   "source": [
    "df.MonthlyIncome.unique()"
   ]
  },
  {
   "cell_type": "code",
   "execution_count": 240,
   "id": "90bf8fb6",
   "metadata": {},
   "outputs": [
    {
     "data": {
      "text/plain": [
       "Text(0.5, 1.0, 'Employee Monthly Income')"
      ]
     },
     "execution_count": 240,
     "metadata": {},
     "output_type": "execute_result"
    },
    {
     "data": {
      "image/png": "[encoded data removed]",
      "text/plain": [
       "<Figure size 432x288 with 1 Axes>"
      ]
     },
     "metadata": {},
     "output_type": "display_data"
    }
   ],
   "source": [
    "# Suplots of employee monthly income v attrition\n",
    "sns.set_style('darkgrid')\n",
    "\n",
    "# Plot [0]\n",
    "cp=sns.barplot(x = df.Attrition, y = df.MonthlyIncome)\n",
    "cp.set_xlabel('Attrition')\n",
    "cp.set_ylabel('MonthlyIncome')\n",
    "cp.set_title('Employee Monthly Income')"
   ]
  },
  {
   "cell_type": "markdown",
   "id": "8b8db19b",
   "metadata": {},
   "source": [
    "***Jawaban: Iya, besarnya monthly income mempengaruhi attrition karyawan, bisa dilihat dari nilai grafik hasil warna oranye, dimana employee yang berhenti bekerja adalah employee yang monthly income nya di bawah 5000.***"
   ]
  },
  {
   "cell_type": "markdown",
   "id": "e4ef6bb0",
   "metadata": {},
   "source": [
    "**Menjawab soal: 6) Apakah work life balance mempengaruhi tingkat attrition?**"
   ]
  },
  {
   "cell_type": "code",
   "execution_count": 241,
   "id": "ab5bbb57",
   "metadata": {},
   "outputs": [
    {
     "name": "stdout",
     "output_type": "stream",
     "text": [
      "Employee Work Life Balance Summary \n",
      "Attrition          0    1\n",
      "WorkLifeBalance          \n",
      "1                 55   25\n",
      "2                286   58\n",
      "3                766  127\n",
      "4                126   27\n"
     ]
    },
    {
     "data": {
      "image/png": "[encoded data removed]",
      "text/plain": [
       "<Figure size 432x288 with 1 Axes>"
      ]
     },
     "metadata": {},
     "output_type": "display_data"
    }
   ],
   "source": [
    "# Employee Work Life Balance Summary \n",
    "print('Employee Work Life Balance Summary ')\n",
    "\n",
    "#print('\\n')\n",
    "print(df.groupby(['WorkLifeBalance','Attrition']).PerformanceRating.count().unstack())\n",
    "\n",
    "# Passenger class visualization\n",
    "pr = df.groupby(['WorkLifeBalance','Attrition']).PerformanceRating.count().unstack()\n",
    "p1 = pr.plot(kind = 'bar', stacked = True, \n",
    "                   title = 'Employee by WorkLifeBalance: Attrition (Yes) or No Attrition (No)', \n",
    "                   color = ['grey','lightgreen'], alpha = .70)\n",
    "p1.set_xlabel('Work Life Balance')\n",
    "p1.set_ylabel('# Employee')\n",
    "p1.legend(['No','Yes'])\n",
    "plt.show()"
   ]
  },
  {
   "cell_type": "markdown",
   "id": "f95c0347",
   "metadata": {},
   "source": [
    "***Jawaban: dapat disimpulkan bahwa dengan keterbatasan sample yang tersedia, WorkLifeBalance tidak terlalu mempengaruhi attrition, karena bisa dilihat pada employee yang memberikan rating 4, presentase antara ya/tidak nya attrition tidak terlalu jauh, namun pada employee yang memberikan rating 3, perbandingan antara keduanya lebih besar satu sama lain.***"
   ]
  },
  {
   "cell_type": "markdown",
   "id": "8fb364a0",
   "metadata": {},
   "source": [
    "# GETTING DATASET READY "
   ]
  },
  {
   "cell_type": "code",
   "execution_count": 242,
   "id": "d618c291",
   "metadata": {},
   "outputs": [
    {
     "name": "stdout",
     "output_type": "stream",
     "text": [
      "<class 'pandas.core.frame.DataFrame'>\n",
      "RangeIndex: 1470 entries, 0 to 1469\n",
      "Data columns (total 35 columns):\n",
      " #   Column                    Non-Null Count  Dtype \n",
      "---  ------                    --------------  ----- \n",
      " 0   Age                       1470 non-null   int64 \n",
      " 1   Attrition                 1470 non-null   int32 \n",
      " 2   BusinessTravel            1470 non-null   object\n",
      " 3   DailyRate                 1470 non-null   int64 \n",
      " 4   Department                1470 non-null   object\n",
      " 5   DistanceFromHome          1470 non-null   int64 \n",
      " 6   Education                 1470 non-null   int64 \n",
      " 7   EducationField            1470 non-null   object\n",
      " 8   EmployeeCount             1470 non-null   int64 \n",
      " 9   EmployeeNumber            1470 non-null   int64 \n",
      " 10  EnvironmentSatisfaction   1470 non-null   int64 \n",
      " 11  Gender                    1470 non-null   object\n",
      " 12  HourlyRate                1470 non-null   int64 \n",
      " 13  JobInvolvement            1470 non-null   int64 \n",
      " 14  JobLevel                  1470 non-null   int64 \n",
      " 15  JobRole                   1470 non-null   object\n",
      " 16  JobSatisfaction           1470 non-null   int64 \n",
      " 17  MaritalStatus             1470 non-null   object\n",
      " 18  MonthlyIncome             1470 non-null   int64 \n",
      " 19  MonthlyRate               1470 non-null   int64 \n",
      " 20  NumCompaniesWorked        1470 non-null   int64 \n",
      " 21  Over18                    1470 non-null   object\n",
      " 22  OverTime                  1470 non-null   object\n",
      " 23  PercentSalaryHike         1470 non-null   int64 \n",
      " 24  PerformanceRating         1470 non-null   int64 \n",
      " 25  RelationshipSatisfaction  1470 non-null   int64 \n",
      " 26  StandardHours             1470 non-null   int64 \n",
      " 27  StockOptionLevel          1470 non-null   int64 \n",
      " 28  TotalWorkingYears         1470 non-null   int64 \n",
      " 29  TrainingTimesLastYear     1470 non-null   int64 \n",
      " 30  WorkLifeBalance           1470 non-null   int64 \n",
      " 31  YearsAtCompany            1470 non-null   int64 \n",
      " 32  YearsInCurrentRole        1470 non-null   int64 \n",
      " 33  YearsSinceLastPromotion   1470 non-null   int64 \n",
      " 34  YearsWithCurrManager      1470 non-null   int64 \n",
      "dtypes: int32(1), int64(26), object(8)\n",
      "memory usage: 396.3+ KB\n"
     ]
    }
   ],
   "source": [
    "df.info()"
   ]
  },
  {
   "cell_type": "markdown",
   "id": "89161973",
   "metadata": {},
   "source": [
    "**Sebagai seorang karyawan pada suatu perusahaan, dimungkinkan faktor-faktor yang menjadi pertimbangan untuk umur, attrition adalah kepuasan lingkungan kerja, posisi, gaji, seberapa baik/aktif pelatihan yang diadakan oleh kantor dalam menjaga performa dan kepuasan hasil kerja, rating performance dari atasan, keseimbangan antara pekerjaan dan kehidupan pribadi, serta promosi/jenjang karir. Maka hal-hal ini yang kemungkinan akan dijadikan feature dan dicari korelasinya terlebih dahulu.**"
   ]
  },
  {
   "cell_type": "code",
   "execution_count": 243,
   "id": "571fc869",
   "metadata": {},
   "outputs": [
    {
     "data": {
      "text/html": [
       "<div>\n",
       "<style scoped>\n",
       "    .dataframe tbody tr th:only-of-type {\n",
       "        vertical-align: middle;\n",
       "    }\n",
       "\n",
       "    .dataframe tbody tr th {\n",
       "        vertical-align: top;\n",
       "    }\n",
       "\n",
       "    .dataframe thead th {\n",
       "        text-align: right;\n",
       "    }\n",
       "</style>\n",
       "<table border=\"1\" class=\"dataframe\">\n",
       "  <thead>\n",
       "    <tr style=\"text-align: right;\">\n",
       "      <th></th>\n",
       "      <th>Age</th>\n",
       "      <th>Target</th>\n",
       "      <th>EnvironmentSatisfaction</th>\n",
       "      <th>JobLevel</th>\n",
       "      <th>JobSatisfaction</th>\n",
       "      <th>MonthlyIncome</th>\n",
       "      <th>PercentSalaryHike</th>\n",
       "      <th>PerformanceRating</th>\n",
       "      <th>YearsSinceLastPromotion</th>\n",
       "    </tr>\n",
       "  </thead>\n",
       "  <tbody>\n",
       "    <tr>\n",
       "      <th>0</th>\n",
       "      <td>41</td>\n",
       "      <td>1</td>\n",
       "      <td>2</td>\n",
       "      <td>2</td>\n",
       "      <td>4</td>\n",
       "      <td>5993</td>\n",
       "      <td>11</td>\n",
       "      <td>3</td>\n",
       "      <td>0</td>\n",
       "    </tr>\n",
       "    <tr>\n",
       "      <th>1</th>\n",
       "      <td>49</td>\n",
       "      <td>0</td>\n",
       "      <td>3</td>\n",
       "      <td>2</td>\n",
       "      <td>2</td>\n",
       "      <td>5130</td>\n",
       "      <td>23</td>\n",
       "      <td>4</td>\n",
       "      <td>1</td>\n",
       "    </tr>\n",
       "    <tr>\n",
       "      <th>2</th>\n",
       "      <td>37</td>\n",
       "      <td>1</td>\n",
       "      <td>4</td>\n",
       "      <td>1</td>\n",
       "      <td>3</td>\n",
       "      <td>2090</td>\n",
       "      <td>15</td>\n",
       "      <td>3</td>\n",
       "      <td>0</td>\n",
       "    </tr>\n",
       "    <tr>\n",
       "      <th>3</th>\n",
       "      <td>33</td>\n",
       "      <td>0</td>\n",
       "      <td>4</td>\n",
       "      <td>1</td>\n",
       "      <td>3</td>\n",
       "      <td>2909</td>\n",
       "      <td>11</td>\n",
       "      <td>3</td>\n",
       "      <td>3</td>\n",
       "    </tr>\n",
       "    <tr>\n",
       "      <th>4</th>\n",
       "      <td>27</td>\n",
       "      <td>0</td>\n",
       "      <td>1</td>\n",
       "      <td>1</td>\n",
       "      <td>2</td>\n",
       "      <td>3468</td>\n",
       "      <td>12</td>\n",
       "      <td>3</td>\n",
       "      <td>2</td>\n",
       "    </tr>\n",
       "  </tbody>\n",
       "</table>\n",
       "</div>"
      ],
      "text/plain": [
       "   Age  Target  EnvironmentSatisfaction  JobLevel  JobSatisfaction  \\\n",
       "0   41       1                        2         2                4   \n",
       "1   49       0                        3         2                2   \n",
       "2   37       1                        4         1                3   \n",
       "3   33       0                        4         1                3   \n",
       "4   27       0                        1         1                2   \n",
       "\n",
       "   MonthlyIncome  PercentSalaryHike  PerformanceRating  \\\n",
       "0           5993                 11                  3   \n",
       "1           5130                 23                  4   \n",
       "2           2090                 15                  3   \n",
       "3           2909                 11                  3   \n",
       "4           3468                 12                  3   \n",
       "\n",
       "   YearsSinceLastPromotion  \n",
       "0                        0  \n",
       "1                        1  \n",
       "2                        0  \n",
       "3                        3  \n",
       "4                        2  "
      ]
     },
     "execution_count": 243,
     "metadata": {},
     "output_type": "execute_result"
    }
   ],
   "source": [
    "df = df[['Age', 'Attrition', 'EnvironmentSatisfaction', 'JobLevel', 'JobSatisfaction', 'MonthlyIncome', 'PercentSalaryHike',\n",
    "        'PerformanceRating', 'YearsSinceLastPromotion']]\n",
    "\n",
    "# rename column 'Attrition'\n",
    "df = df.rename(columns={'Attrition': 'Target'})\n",
    "df.head()"
   ]
  },
  {
   "cell_type": "markdown",
   "id": "2b2dbeb8",
   "metadata": {},
   "source": [
    "**FEATURES CORRELATION:**"
   ]
  },
  {
   "cell_type": "code",
   "execution_count": 244,
   "id": "50bcd3c6",
   "metadata": {},
   "outputs": [
    {
     "data": {
      "image/png": "[encoded data removed]",
      "text/plain": [
       "<Figure size 1440x720 with 2 Axes>"
      ]
     },
     "metadata": {},
     "output_type": "display_data"
    }
   ],
   "source": [
    "plt.figure(figsize=(20,10))\n",
    "sns.heatmap(df.corr(),cmap=plt.cm.Reds,annot=True)\n",
    "plt.title('Heatmap displaying the corellation between the features of the data',\n",
    "         fontsize=13)\n",
    "plt.show()"
   ]
  },
  {
   "cell_type": "markdown",
   "id": "61d368be",
   "metadata": {},
   "source": [
    "# DATA PREPROCESSING "
   ]
  },
  {
   "cell_type": "markdown",
   "id": "11cbdf2d",
   "metadata": {},
   "source": [
    "**PEMISAHAN DATA & TARGET:**"
   ]
  },
  {
   "cell_type": "code",
   "execution_count": 245,
   "id": "51205883",
   "metadata": {},
   "outputs": [
    {
     "name": "stdout",
     "output_type": "stream",
     "text": [
      "X Shape: (1470, 8)\n",
      "y Shape: (1470,)\n"
     ]
    }
   ],
   "source": [
    "# memisahkan data dengan target \n",
    "X = df.drop(['Target'], axis=1)\n",
    "y = df['Target']\n",
    "print('X Shape:', X.shape)\n",
    "print('y Shape:', y.shape)"
   ]
  },
  {
   "cell_type": "markdown",
   "id": "4455199e",
   "metadata": {},
   "source": [
    "**DATA SCALING:**"
   ]
  },
  {
   "cell_type": "code",
   "execution_count": 246,
   "id": "b40c1d03",
   "metadata": {},
   "outputs": [],
   "source": [
    "scaler = StandardScaler() \n",
    "scaler.fit(X) \n",
    "X = scaler.transform(X) "
   ]
  },
  {
   "cell_type": "markdown",
   "id": "4239f6c2",
   "metadata": {},
   "source": [
    "**TRAIN & TEST SPLITTING:**"
   ]
  },
  {
   "cell_type": "markdown",
   "id": "e707cf51",
   "metadata": {},
   "source": [
    "**Perbandingan 80% - 20% untuk data train dan dataset.**"
   ]
  },
  {
   "cell_type": "code",
   "execution_count": 247,
   "id": "556d86d0",
   "metadata": {},
   "outputs": [
    {
     "name": "stdout",
     "output_type": "stream",
     "text": [
      "(1176, 8)\n",
      "(294, 8)\n"
     ]
    }
   ],
   "source": [
    "X_train, X_test, y_train, y_test = train_test_split(X, y, test_size=0.20, random_state=42)\n",
    "print(X_train.shape)\n",
    "print(X_test.shape)"
   ]
  },
  {
   "cell_type": "markdown",
   "id": "bb23b120",
   "metadata": {},
   "source": [
    "# DATA TRAINING AND MODEL EVALUATION"
   ]
  },
  {
   "cell_type": "markdown",
   "id": "ba8b235a",
   "metadata": {},
   "source": [
    "# 1) Decision Tree"
   ]
  },
  {
   "cell_type": "markdown",
   "id": "48694151",
   "metadata": {},
   "source": [
    "**Model Definition**"
   ]
  },
  {
   "cell_type": "code",
   "execution_count": 248,
   "id": "330580db",
   "metadata": {},
   "outputs": [],
   "source": [
    "DT = DecisionTreeClassifier(random_state=42)"
   ]
  },
  {
   "cell_type": "markdown",
   "id": "8b147429",
   "metadata": {},
   "source": [
    "**Model Training**"
   ]
  },
  {
   "cell_type": "code",
   "execution_count": 249,
   "id": "74aad120",
   "metadata": {},
   "outputs": [],
   "source": [
    "DT.fit(X_train, y_train)\n",
    "y_pred = DT.predict(X_test)"
   ]
  },
  {
   "cell_type": "markdown",
   "id": "b33073d9",
   "metadata": {},
   "source": [
    "**Model Evaluation**"
   ]
  },
  {
   "cell_type": "markdown",
   "id": "b4130abf",
   "metadata": {},
   "source": [
    "print(\"DT Accuracy:\", metrics.accuracy_score(y_test, y_pred))\n",
    "print(\"DT Precision:\", metrics.precision_score(y_test, y_pred))\n",
    "print(\"Dt Recall:\", metrics.recall_score(y_test, y_pred))"
   ]
  },
  {
   "cell_type": "markdown",
   "id": "f64e9b25",
   "metadata": {},
   "source": [
    "***Kesimpulan: akurasi dari model desition tree masih kurang, yaitu 76%, kita akan melakukan hyperparameter tuning untuk meningkatkan akurasi model kita.***"
   ]
  },
  {
   "cell_type": "markdown",
   "id": "0de95241",
   "metadata": {},
   "source": [
    "**Hyperparameter Tuning**"
   ]
  },
  {
   "cell_type": "code",
   "execution_count": 250,
   "id": "10eb248d",
   "metadata": {},
   "outputs": [],
   "source": [
    "# setting parameters \n",
    "DT = DT\n",
    "parameters = {\n",
    "    \"max_depth\": [5, 8],\n",
    "    \"max_features\": [\"log2\",\"sqrt\"]\n",
    "}"
   ]
  },
  {
   "cell_type": "code",
   "execution_count": 251,
   "id": "e8d17b5f",
   "metadata": {},
   "outputs": [
    {
     "data": {
      "text/plain": [
       "GridSearchCV(cv=5, estimator=DecisionTreeClassifier(random_state=42),\n",
       "             param_grid={'max_depth': [5, 8], 'max_features': ['log2', 'sqrt']},\n",
       "             scoring='accuracy')"
      ]
     },
     "execution_count": 251,
     "metadata": {},
     "output_type": "execute_result"
    }
   ],
   "source": [
    "# Use the GridSearchCV model selection for cross-validation\n",
    "cv = GridSearchCV(DT,parameters,scoring=\"accuracy\",cv=5)\n",
    "cv.fit(X_train, y_train)"
   ]
  },
  {
   "cell_type": "code",
   "execution_count": 252,
   "id": "68ca3d9d",
   "metadata": {},
   "outputs": [
    {
     "name": "stdout",
     "output_type": "stream",
     "text": [
      "Best Parameter: {'max_depth': 5, 'max_features': 'sqrt'}\n",
      "Best Estimator: DecisionTreeClassifier(max_depth=5, max_features='sqrt', random_state=42)\n"
     ]
    }
   ],
   "source": [
    "# print the best hyperparameters\n",
    "print('Best Parameter:', cv.best_params_)\n",
    "print('Best Estimator:', cv.best_estimator_)"
   ]
  },
  {
   "cell_type": "markdown",
   "id": "da9bed10",
   "metadata": {},
   "source": [
    "**Applying Best Estimator to Our Model**"
   ]
  },
  {
   "cell_type": "code",
   "execution_count": 253,
   "id": "928b6212",
   "metadata": {},
   "outputs": [],
   "source": [
    "# model definition\n",
    "DT = cv.best_estimator_"
   ]
  },
  {
   "cell_type": "code",
   "execution_count": 254,
   "id": "7330fbcc",
   "metadata": {},
   "outputs": [],
   "source": [
    "# model training \n",
    "DT.fit(X_train, y_train)\n",
    "y_pred = DT.predict(X_test)"
   ]
  },
  {
   "cell_type": "markdown",
   "id": "cbe6a687",
   "metadata": {},
   "source": [
    "**Model Evaluation After Tuning**"
   ]
  },
  {
   "cell_type": "code",
   "execution_count": 255,
   "id": "86bcdf6f",
   "metadata": {},
   "outputs": [
    {
     "name": "stdout",
     "output_type": "stream",
     "text": [
      "DT Accuracy: 0.8605442176870748\n",
      "DT Precision: 0.375\n",
      "Dt Recall: 0.07692307692307693\n"
     ]
    }
   ],
   "source": [
    "print(\"DT Accuracy:\", metrics.accuracy_score(y_test, y_pred))\n",
    "print(\"DT Precision:\", metrics.precision_score(y_test, y_pred))\n",
    "print(\"Dt Recall:\", metrics.recall_score(y_test, y_pred))"
   ]
  },
  {
   "cell_type": "markdown",
   "id": "093fd816",
   "metadata": {},
   "source": [
    "***Hasil: Dengan hyperparameter tuning, model kita berhasil meningkatkan akurasi dari sebelumnya 76% menjadi 86%.***"
   ]
  },
  {
   "cell_type": "markdown",
   "id": "3acb703e",
   "metadata": {},
   "source": [
    "# 2) Random Forest "
   ]
  },
  {
   "cell_type": "markdown",
   "id": "4a8cdde5",
   "metadata": {},
   "source": [
    "**Model Definition**"
   ]
  },
  {
   "cell_type": "code",
   "execution_count": 256,
   "id": "d695b852",
   "metadata": {},
   "outputs": [],
   "source": [
    "RF = RandomForestClassifier(random_state=42)"
   ]
  },
  {
   "cell_type": "markdown",
   "id": "eba36e81",
   "metadata": {},
   "source": [
    "**Model Training**"
   ]
  },
  {
   "cell_type": "code",
   "execution_count": 257,
   "id": "f87f44bb",
   "metadata": {},
   "outputs": [],
   "source": [
    "RF.fit(X_train, y_train)\n",
    "y_pred = RF.predict(X_test)"
   ]
  },
  {
   "cell_type": "markdown",
   "id": "9caa5520",
   "metadata": {},
   "source": [
    "**Model Evaluation**"
   ]
  },
  {
   "cell_type": "code",
   "execution_count": 258,
   "id": "b585345f",
   "metadata": {},
   "outputs": [
    {
     "name": "stdout",
     "output_type": "stream",
     "text": [
      "RF Accuracy: 0.8469387755102041\n",
      "RF Precision: 0.25\n",
      "RF Recall: 0.07692307692307693\n"
     ]
    }
   ],
   "source": [
    "print(\"RF Accuracy:\", metrics.accuracy_score(y_test, y_pred))\n",
    "print(\"RF Precision:\", metrics.precision_score(y_test, y_pred))\n",
    "print(\"RF Recall:\", metrics.recall_score(y_test, y_pred))"
   ]
  },
  {
   "cell_type": "markdown",
   "id": "0ba78823",
   "metadata": {},
   "source": [
    "***Kesimpulan: menggunakan algorithm Random Forest, hasil awal tanpa parameter sudah cukup bagus, namun tetap kita akan melakukan hyperparameter tuning agar model bisa lebih baik lagi dari segi skor akurasi.***"
   ]
  },
  {
   "cell_type": "markdown",
   "id": "be9c9185",
   "metadata": {},
   "source": [
    "**Hyperparameter Tuning**"
   ]
  },
  {
   "cell_type": "code",
   "execution_count": 259,
   "id": "f4d66776",
   "metadata": {},
   "outputs": [],
   "source": [
    "# setting parameters \n",
    "RF = RF\n",
    "parameters = {\n",
    "    \"n_estimators\":[100,250],\n",
    "    \"max_depth\":[8,16]\n",
    "    \n",
    "}"
   ]
  },
  {
   "cell_type": "code",
   "execution_count": 260,
   "id": "bea890d3",
   "metadata": {},
   "outputs": [
    {
     "data": {
      "text/plain": [
       "GridSearchCV(cv=5, estimator=RandomForestClassifier(random_state=42),\n",
       "             param_grid={'max_depth': [8, 16], 'n_estimators': [100, 250]},\n",
       "             scoring='accuracy')"
      ]
     },
     "execution_count": 260,
     "metadata": {},
     "output_type": "execute_result"
    }
   ],
   "source": [
    "# Use the GridSearchCV model selection for cross-validation\n",
    "cv = GridSearchCV(RF,parameters,scoring=\"accuracy\",cv=5)\n",
    "cv.fit(X_train, y_train)"
   ]
  },
  {
   "cell_type": "code",
   "execution_count": 261,
   "id": "1024a45d",
   "metadata": {},
   "outputs": [
    {
     "name": "stdout",
     "output_type": "stream",
     "text": [
      "Best Parameter: {'max_depth': 8, 'n_estimators': 250}\n",
      "Best Estimator: RandomForestClassifier(max_depth=8, n_estimators=250, random_state=42)\n"
     ]
    }
   ],
   "source": [
    "# print the best hyperparameters\n",
    "print('Best Parameter:', cv.best_params_)\n",
    "print('Best Estimator:', cv.best_estimator_)"
   ]
  },
  {
   "cell_type": "markdown",
   "id": "701a3106",
   "metadata": {},
   "source": [
    "**Applying Best Estimator to Our Model**"
   ]
  },
  {
   "cell_type": "code",
   "execution_count": 262,
   "id": "18a160c7",
   "metadata": {},
   "outputs": [],
   "source": [
    "# model definition\n",
    "RF = cv.best_estimator_"
   ]
  },
  {
   "cell_type": "code",
   "execution_count": 263,
   "id": "6108e803",
   "metadata": {},
   "outputs": [],
   "source": [
    "# model training \n",
    "RF.fit(X_train, y_train)\n",
    "y_pred = RF.predict(X_test)"
   ]
  },
  {
   "cell_type": "markdown",
   "id": "a0c43226",
   "metadata": {},
   "source": [
    "**Model Evaluation After Tuning**"
   ]
  },
  {
   "cell_type": "code",
   "execution_count": 264,
   "id": "a5f075af",
   "metadata": {},
   "outputs": [
    {
     "name": "stdout",
     "output_type": "stream",
     "text": [
      "RF Accuracy: 0.8639455782312925\n",
      "RF Precision: 0.42857142857142855\n",
      "RF Recall: 0.07692307692307693\n"
     ]
    }
   ],
   "source": [
    "print(\"RF Accuracy:\", metrics.accuracy_score(y_test, y_pred))\n",
    "print(\"RF Precision:\", metrics.precision_score(y_test, y_pred))\n",
    "print(\"RF Recall:\", metrics.recall_score(y_test, y_pred))"
   ]
  },
  {
   "cell_type": "markdown",
   "id": "1af007c5",
   "metadata": {},
   "source": [
    "# KESIMPULAN ATAS PERBANDINGAN KEDUA MODEL SETELAH TUNING:"
   ]
  },
  {
   "cell_type": "markdown",
   "id": "f880cb9d",
   "metadata": {},
   "source": [
    "**1) Desicion Tree:**\n",
    "\n",
    "DT Accuracy: 0.8639455782312925\n",
    "\n",
    "DT Precision: 0.42857142857142855\n",
    "\n",
    "Dt Recall: 0.07692307692307693\n",
    "\n",
    "**2) Random Forest:**\n",
    "\n",
    "RF Accuracy: 0.8639455782312925\n",
    "\n",
    "RF Precision: 0.42857142857142855\n",
    "\n",
    "RF Recall: 0.07692307692307693"
   ]
  },
  {
   "cell_type": "markdown",
   "id": "a0b15fcf",
   "metadata": {},
   "source": [
    "**Menjawab pertanyaan: 1) Bandingkan antara model Decision Tree dan Random Forest. Mana yang lebih baik untuk data ini?**"
   ]
  },
  {
   "cell_type": "markdown",
   "id": "9ed27865",
   "metadata": {},
   "source": [
    "***Kebetulan hasil scoring accuracy, precision, dan recall dari kedua model tersebut adalah sama persis. Sehingga, kita bebas untuk memilih model yang terbaik untuk kasus ini. Namun, saya pribadi akan lebih memilih Random Forest, karena sebelum hypertuning, hasilnya juga sudah cukup bagus.***"
   ]
  },
  {
   "cell_type": "markdown",
   "id": "6353b98a",
   "metadata": {},
   "source": [
    "**Model Inference menggunakan Random Forest**"
   ]
  },
  {
   "cell_type": "code",
   "execution_count": 265,
   "id": "74cb50a5",
   "metadata": {},
   "outputs": [
    {
     "data": {
      "text/html": [
       "<div>\n",
       "<style scoped>\n",
       "    .dataframe tbody tr th:only-of-type {\n",
       "        vertical-align: middle;\n",
       "    }\n",
       "\n",
       "    .dataframe tbody tr th {\n",
       "        vertical-align: top;\n",
       "    }\n",
       "\n",
       "    .dataframe thead th {\n",
       "        text-align: right;\n",
       "    }\n",
       "</style>\n",
       "<table border=\"1\" class=\"dataframe\">\n",
       "  <thead>\n",
       "    <tr style=\"text-align: right;\">\n",
       "      <th></th>\n",
       "      <th>Age</th>\n",
       "      <th>Target</th>\n",
       "      <th>EnvironmentSatisfaction</th>\n",
       "      <th>JobLevel</th>\n",
       "      <th>JobSatisfaction</th>\n",
       "      <th>MonthlyIncome</th>\n",
       "      <th>PercentSalaryHike</th>\n",
       "      <th>PerformanceRating</th>\n",
       "      <th>YearsSinceLastPromotion</th>\n",
       "    </tr>\n",
       "  </thead>\n",
       "  <tbody>\n",
       "    <tr>\n",
       "      <th>0</th>\n",
       "      <td>41</td>\n",
       "      <td>1</td>\n",
       "      <td>2</td>\n",
       "      <td>2</td>\n",
       "      <td>4</td>\n",
       "      <td>5993</td>\n",
       "      <td>11</td>\n",
       "      <td>3</td>\n",
       "      <td>0</td>\n",
       "    </tr>\n",
       "    <tr>\n",
       "      <th>1</th>\n",
       "      <td>49</td>\n",
       "      <td>0</td>\n",
       "      <td>3</td>\n",
       "      <td>2</td>\n",
       "      <td>2</td>\n",
       "      <td>5130</td>\n",
       "      <td>23</td>\n",
       "      <td>4</td>\n",
       "      <td>1</td>\n",
       "    </tr>\n",
       "    <tr>\n",
       "      <th>2</th>\n",
       "      <td>37</td>\n",
       "      <td>1</td>\n",
       "      <td>4</td>\n",
       "      <td>1</td>\n",
       "      <td>3</td>\n",
       "      <td>2090</td>\n",
       "      <td>15</td>\n",
       "      <td>3</td>\n",
       "      <td>0</td>\n",
       "    </tr>\n",
       "    <tr>\n",
       "      <th>3</th>\n",
       "      <td>33</td>\n",
       "      <td>0</td>\n",
       "      <td>4</td>\n",
       "      <td>1</td>\n",
       "      <td>3</td>\n",
       "      <td>2909</td>\n",
       "      <td>11</td>\n",
       "      <td>3</td>\n",
       "      <td>3</td>\n",
       "    </tr>\n",
       "    <tr>\n",
       "      <th>4</th>\n",
       "      <td>27</td>\n",
       "      <td>0</td>\n",
       "      <td>1</td>\n",
       "      <td>1</td>\n",
       "      <td>2</td>\n",
       "      <td>3468</td>\n",
       "      <td>12</td>\n",
       "      <td>3</td>\n",
       "      <td>2</td>\n",
       "    </tr>\n",
       "  </tbody>\n",
       "</table>\n",
       "</div>"
      ],
      "text/plain": [
       "   Age  Target  EnvironmentSatisfaction  JobLevel  JobSatisfaction  \\\n",
       "0   41       1                        2         2                4   \n",
       "1   49       0                        3         2                2   \n",
       "2   37       1                        4         1                3   \n",
       "3   33       0                        4         1                3   \n",
       "4   27       0                        1         1                2   \n",
       "\n",
       "   MonthlyIncome  PercentSalaryHike  PerformanceRating  \\\n",
       "0           5993                 11                  3   \n",
       "1           5130                 23                  4   \n",
       "2           2090                 15                  3   \n",
       "3           2909                 11                  3   \n",
       "4           3468                 12                  3   \n",
       "\n",
       "   YearsSinceLastPromotion  \n",
       "0                        0  \n",
       "1                        1  \n",
       "2                        0  \n",
       "3                        3  \n",
       "4                        2  "
      ]
     },
     "execution_count": 265,
     "metadata": {},
     "output_type": "execute_result"
    }
   ],
   "source": [
    "df.head()"
   ]
  },
  {
   "cell_type": "code",
   "execution_count": 266,
   "id": "e62bbcf3",
   "metadata": {},
   "outputs": [
    {
     "name": "stdout",
     "output_type": "stream",
     "text": [
      "Prediksi attrition karyawan dengan data baru: Tidak\n"
     ]
    }
   ],
   "source": [
    "# new data 1 \n",
    "new_data =[30,4,1,4,3500,20,3,2]\n",
    "new_pred = RF.predict([new_data])\n",
    "\n",
    "if new_pred == [0]:\n",
    "  print(\"Prediksi attrition karyawan dengan data baru: Tidak\")\n",
    "else :\n",
    "  print(\"Prediksi attrition karyawan dengan data baru: Iya\")"
   ]
  },
  {
   "cell_type": "markdown",
   "id": "eb2be1b7",
   "metadata": {},
   "source": [
    "***Hasil Prediksi: karyawan berumur 30 th, dgn skor kepuasan lingkungan: 4, level pekerjaan: 1, kepuasan pekerjaan: 4, income perbulan sebesar: 3500, kenaikan presentasi gaji sebesar 20%, rating performance pada tingkat 3, dan terakhir menerima promosi jabatan adalah 2 tahun lalu, diperkirakan tidak akan menerima/melakukan attrition (berhenti kerja dengan alasan apapun).***"
   ]
  },
  {
   "cell_type": "markdown",
   "id": "7c940e43",
   "metadata": {},
   "source": [
    "# MODEL ANALYSIS AND MODEL EVALUATION"
   ]
  },
  {
   "cell_type": "markdown",
   "id": "0a0cb318",
   "metadata": {},
   "source": [
    "1) Dibandingkan dengan algorithm Decision Tree, Random Forest tanpa parameter sudah menunjukkan hasil akurasi yang cukup bagus, dan hanya naik 1% atas akurasinya setelah dilakukan hyperparameter tuning dengan GridSearchCV. sedangkan Desicion Tree tanpa parameter belum menunjukkan hasil akurasi yang cukup bagus, tetapi skor akurasinya naik cukup tinggi yaitu sebesar 10% setelah dilakukan hyperparameter tuning.\n",
    "\n",
    "2) Huperparameter tuning sangat membantu dalam meningkatkan skor akurasi, presisi, dan recall atas sebuah algoritma.\n",
    "\n",
    "3) Hasil kedua akurasi model adalah sama persis, yaitu akurasi sebesar 86%, presisi sebesar 42%, dan recall sebesar 0.07%."
   ]
  },
  {
   "cell_type": "markdown",
   "id": "60094eea",
   "metadata": {},
   "source": [
    "**Berikut adalah evaluasi hasil model RandomForest dengan confusion matrix:**"
   ]
  },
  {
   "cell_type": "code",
   "execution_count": 267,
   "id": "6c7682d0",
   "metadata": {},
   "outputs": [
    {
     "name": "stdout",
     "output_type": "stream",
     "text": [
      "True Negative  :  251\n",
      "False Positive :  4\n",
      "False Negative :  36\n",
      "True Positive  :  3\n"
     ]
    }
   ],
   "source": [
    "cnf_matrix = metrics.confusion_matrix(y_test, y_pred)\n",
    "tn, fp, fn, tp = cnf_matrix.ravel()\n",
    "print('True Negative  : ', tn)\n",
    "print('False Positive : ', fp)\n",
    "print('False Negative : ', fn)\n",
    "print('True Positive  : ', tp)"
   ]
  },
  {
   "cell_type": "code",
   "execution_count": 268,
   "id": "7eca299d",
   "metadata": {},
   "outputs": [
    {
     "data": {
      "text/plain": [
       "<AxesSubplot:>"
      ]
     },
     "execution_count": 268,
     "metadata": {},
     "output_type": "execute_result"
    },
    {
     "data": {
      "image/png": "[encoded data removed]",
      "text/plain": [
       "<Figure size 432x288 with 2 Axes>"
      ]
     },
     "metadata": {},
     "output_type": "display_data"
    }
   ],
   "source": [
    "# visualize confusion matrix with seaborn heatmap\n",
    "sns.heatmap(cnf_matrix, annot=True, fmt='d', cmap='YlGnBu')"
   ]
  },
  {
   "cell_type": "code",
   "execution_count": 269,
   "id": "2232d1f7",
   "metadata": {},
   "outputs": [
    {
     "data": {
      "image/png": "[encoded data removed]",
      "text/plain": [
       "<Figure size 432x288 with 1 Axes>"
      ]
     },
     "metadata": {},
     "output_type": "display_data"
    }
   ],
   "source": [
    "# visualize ROC score curve \n",
    "from sklearn.metrics import roc_auc_score\n",
    "from sklearn.metrics import roc_curve\n",
    "logit_roc_auc = roc_auc_score(y_test, RF.predict(X_test))\n",
    "fpr, tpr, thresholds = roc_curve(y_test, RF.predict_proba(X_test)[:,1])\n",
    "plt.figure()\n",
    "plt.plot(fpr, tpr, label='Logistic Regression (area = %0.2f)' % logit_roc_auc)\n",
    "plt.plot([0, 1], [0, 1],'r--')\n",
    "plt.xlim([0.0, 1.0])\n",
    "plt.ylim([0.0, 1.05])\n",
    "plt.xlabel('False Positive Rate')\n",
    "plt.ylabel('True Positive Rate')\n",
    "plt.title('Receiver operating characteristic')\n",
    "plt.legend(loc=\"lower right\")\n",
    "plt.savefig('Log_ROC')\n",
    "plt.show()"
   ]
  },
  {
   "cell_type": "markdown",
   "id": "a8e0ee06",
   "metadata": {},
   "source": [
    "***Kesimpulan: karena nilai Logistic Regression nya adalah 0,5, bisa dikatakan kurang bagus, karena belum mendekati 1. Disarankan untuk melakukan analisa lebih dalam lagi mengenai fitur lain yang mungkin bisa dipakai untuk membuat suatu model dengan nilai Logistik Regression yang bagus.***"
   ]
  }
 ],
 "metadata": {
  "kernelspec": {
   "display_name": "Python 3",
   "language": "python",
   "name": "python3"
  },
  "language_info": {
   "codemirror_mode": {
    "name": "ipython",
    "version": 3
   },
   "file_extension": ".py",
   "mimetype": "text/x-python",
   "name": "python",
   "nbconvert_exporter": "python",
   "pygments_lexer": "ipython3",
   "version": "3.8.8"
  }
 },
 "nbformat": 4,
 "nbformat_minor": 5
}
